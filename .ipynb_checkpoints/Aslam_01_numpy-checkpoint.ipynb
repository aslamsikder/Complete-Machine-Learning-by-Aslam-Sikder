{
 "cells": [
  {
   "cell_type": "markdown",
   "metadata": {},
   "source": [
    "# Aslam Sikder\n",
    "<p> B.Sc. Engg. (Southeast University) <br>\n",
    "M.Sc. Engg. (Dhaka University of Engineerinf & Technology-DUET) <br>\n",
    "Email: aslamsikderduet@gmail.com <br>\n",
    "Linkedin: https://www.linkedin.com/in/aslamsikder/ <br>\n",
    "Github: https://github.com/aslamsikder <br> \n",
    "Instagram: https://www.instagram.com/aaslamsikder/ <br>\n",
    "Facebook: http://www.facebook.com/aaslamsikder\n",
    "</p>"
   ]
  },
  {
   "cell_type": "markdown",
   "metadata": {},
   "source": [
    "## Numpy Introduction\n",
    "<p> <i> <b> Numpy </b> </i> is a general-purpose array-preprocessing package. It provides a high-performance multidimentional array object, and tools for working with these arrays. It is the fundamental package for scientific computing with python.</p>"
   ]
  },
  {
   "cell_type": "markdown",
   "metadata": {},
   "source": [
    "## Array Introduction\n",
    "An <i> <b> Array </b> </i> is a data structure that stores values of same data type. In python, this is the main difference between arrays and lists. While python lists can contain values corresponding to different data types, arrays in python can only contain values corresponding ro same data type."
   ]
  },
  {
   "cell_type": "code",
   "execution_count": 58,
   "metadata": {},
   "outputs": [],
   "source": [
    "# Importing Numpy\n",
    "import numpy as np"
   ]
  },
  {
   "cell_type": "code",
   "execution_count": 59,
   "metadata": {},
   "outputs": [],
   "source": [
    "my_list = [1, 2, 3, 4, 5, 6, 7, 8]\n",
    "arr1 = np.array(my_list)"
   ]
  },
  {
   "cell_type": "code",
   "execution_count": 60,
   "metadata": {},
   "outputs": [
    {
     "data": {
      "text/plain": [
       "numpy.ndarray"
      ]
     },
     "execution_count": 60,
     "metadata": {},
     "output_type": "execute_result"
    }
   ],
   "source": [
    "type(arr1)"
   ]
  },
  {
   "cell_type": "code",
   "execution_count": 61,
   "metadata": {},
   "outputs": [
    {
     "data": {
      "text/plain": [
       "array([1, 2, 3, 4, 5, 6, 7, 8])"
      ]
     },
     "execution_count": 61,
     "metadata": {},
     "output_type": "execute_result"
    }
   ],
   "source": [
    "arr1"
   ]
  },
  {
   "cell_type": "code",
   "execution_count": 62,
   "metadata": {},
   "outputs": [
    {
     "name": "stdout",
     "output_type": "stream",
     "text": [
      "[1 2 3 4 5 6 7 8]\n"
     ]
    }
   ],
   "source": [
    "print(arr1)"
   ]
  },
  {
   "cell_type": "code",
   "execution_count": 63,
   "metadata": {},
   "outputs": [
    {
     "data": {
      "text/plain": [
       "(8,)"
      ]
     },
     "execution_count": 63,
     "metadata": {},
     "output_type": "execute_result"
    }
   ],
   "source": [
    "arr1.shape  # Shape specify how many rows and columns exist"
   ]
  },
  {
   "cell_type": "code",
   "execution_count": 64,
   "metadata": {},
   "outputs": [],
   "source": [
    "# Multidimentional Array\n",
    "my_list1 = [1, 2, 3, 4, 5]\n",
    "my_list2 = [6, 7, 8, 9, 3]\n",
    "my_list3 = [9, 5, 1, 7, 5]\n",
    "\n",
    "# Converting the lists into array\n",
    "arr2 = np.array([my_list1, my_list2, my_list3])"
   ]
  },
  {
   "cell_type": "code",
   "execution_count": 65,
   "metadata": {},
   "outputs": [
    {
     "data": {
      "text/plain": [
       "array([[1, 2, 3, 4, 5],\n",
       "       [6, 7, 8, 9, 3],\n",
       "       [9, 5, 1, 7, 5]])"
      ]
     },
     "execution_count": 65,
     "metadata": {},
     "output_type": "execute_result"
    }
   ],
   "source": [
    "arr2"
   ]
  },
  {
   "cell_type": "code",
   "execution_count": 66,
   "metadata": {},
   "outputs": [
    {
     "data": {
      "text/plain": [
       "(3, 5)"
      ]
     },
     "execution_count": 66,
     "metadata": {},
     "output_type": "execute_result"
    }
   ],
   "source": [
    "# Check the shape of the array\n",
    "arr2.shape"
   ]
  },
  {
   "cell_type": "code",
   "execution_count": 67,
   "metadata": {},
   "outputs": [
    {
     "data": {
      "text/plain": [
       "array([[1, 2, 3],\n",
       "       [4, 5, 6],\n",
       "       [7, 8, 9],\n",
       "       [3, 9, 5],\n",
       "       [1, 7, 5]])"
      ]
     },
     "execution_count": 67,
     "metadata": {},
     "output_type": "execute_result"
    }
   ],
   "source": [
    "# reshape interchange the rows and columns\n",
    "arr2.reshape(5, 3)"
   ]
  },
  {
   "cell_type": "code",
   "execution_count": 68,
   "metadata": {},
   "outputs": [
    {
     "data": {
      "text/plain": [
       "(3, 5)"
      ]
     },
     "execution_count": 68,
     "metadata": {},
     "output_type": "execute_result"
    }
   ],
   "source": [
    "arr2.shape"
   ]
  },
  {
   "cell_type": "markdown",
   "metadata": {},
   "source": [
    "### Indexing of 1D Array\n",
    "<p>\" [ \" one third bracket means, this is one dimensional array </p>"
   ]
  },
  {
   "cell_type": "code",
   "execution_count": 69,
   "metadata": {},
   "outputs": [
    {
     "data": {
      "text/plain": [
       "array([1, 2, 3, 4, 5, 6, 7, 8])"
      ]
     },
     "execution_count": 69,
     "metadata": {},
     "output_type": "execute_result"
    }
   ],
   "source": [
    "# Accessing the array elements\n",
    "arr1"
   ]
  },
  {
   "cell_type": "code",
   "execution_count": 70,
   "metadata": {},
   "outputs": [],
   "source": [
    "arr = np.array([1, 2, 3, 4, 5, 6, 7, 8, 9, 10, 11])"
   ]
  },
  {
   "cell_type": "code",
   "execution_count": 71,
   "metadata": {},
   "outputs": [
    {
     "data": {
      "text/plain": [
       "3"
      ]
     },
     "execution_count": 71,
     "metadata": {},
     "output_type": "execute_result"
    }
   ],
   "source": [
    "arr[2]"
   ]
  },
  {
   "cell_type": "markdown",
   "metadata": {},
   "source": [
    "### Indexing of 2D array\n",
    "<p>\" [ [ \" Two third bracket means, this is two dimensional array </p>"
   ]
  },
  {
   "cell_type": "code",
   "execution_count": 72,
   "metadata": {},
   "outputs": [
    {
     "data": {
      "text/plain": [
       "array([[1, 2, 3, 4, 5],\n",
       "       [6, 7, 8, 9, 3],\n",
       "       [9, 5, 1, 7, 5]])"
      ]
     },
     "execution_count": 72,
     "metadata": {},
     "output_type": "execute_result"
    }
   ],
   "source": [
    "arr2"
   ]
  },
  {
   "cell_type": "code",
   "execution_count": 73,
   "metadata": {},
   "outputs": [
    {
     "data": {
      "text/plain": [
       "array([[1, 2, 3, 4, 5],\n",
       "       [6, 7, 8, 9, 3],\n",
       "       [9, 5, 1, 7, 5]])"
      ]
     },
     "execution_count": 73,
     "metadata": {},
     "output_type": "execute_result"
    }
   ],
   "source": [
    "# Array_name[Row_Index, Column_index]\n",
    "arr2[:,:]"
   ]
  },
  {
   "cell_type": "code",
   "execution_count": 74,
   "metadata": {},
   "outputs": [
    {
     "data": {
      "text/plain": [
       "array([[6, 7, 8, 9, 3],\n",
       "       [9, 5, 1, 7, 5]])"
      ]
     },
     "execution_count": 74,
     "metadata": {},
     "output_type": "execute_result"
    }
   ],
   "source": [
    "# Shows only 2nd & 3rd index of the Row\n",
    "arr2[1:3,:]"
   ]
  },
  {
   "cell_type": "code",
   "execution_count": 75,
   "metadata": {},
   "outputs": [
    {
     "data": {
      "text/plain": [
       "array([[2, 3, 4],\n",
       "       [7, 8, 9],\n",
       "       [5, 1, 7]])"
      ]
     },
     "execution_count": 75,
     "metadata": {},
     "output_type": "execute_result"
    }
   ],
   "source": [
    "# Shows only 2nd,3rd & 4th index of the Column\n",
    "arr2[:, 1:4]"
   ]
  },
  {
   "cell_type": "code",
   "execution_count": 76,
   "metadata": {},
   "outputs": [
    {
     "data": {
      "text/plain": [
       "array([[8, 9],\n",
       "       [1, 7]])"
      ]
     },
     "execution_count": 76,
     "metadata": {},
     "output_type": "execute_result"
    }
   ],
   "source": [
    "# show only 2nd & 3rd rows and 3rd & 4th Column's values\n",
    "arr2[1:3, 2:4]"
   ]
  },
  {
   "cell_type": "code",
   "execution_count": 77,
   "metadata": {},
   "outputs": [
    {
     "data": {
      "text/plain": [
       "array([[1, 2, 3, 4, 5],\n",
       "       [6, 7, 8, 9, 3],\n",
       "       [9, 5, 1, 7, 5]])"
      ]
     },
     "execution_count": 77,
     "metadata": {},
     "output_type": "execute_result"
    }
   ],
   "source": [
    "arr2"
   ]
  },
  {
   "cell_type": "code",
   "execution_count": 78,
   "metadata": {},
   "outputs": [
    {
     "data": {
      "text/plain": [
       "array([[8, 9, 3],\n",
       "       [1, 7, 5]])"
      ]
     },
     "execution_count": 78,
     "metadata": {},
     "output_type": "execute_result"
    }
   ],
   "source": [
    "# show only 2nd & rest of the rows and 3rd & rest of the Column's values\n",
    "arr2[1:,2:]"
   ]
  },
  {
   "cell_type": "code",
   "execution_count": 79,
   "metadata": {},
   "outputs": [],
   "source": [
    "# \"arange(start, stop, step)\" basically create an one dimensional array\n",
    "arr3 = np.arange(0,12,step = 3)"
   ]
  },
  {
   "cell_type": "code",
   "execution_count": 80,
   "metadata": {},
   "outputs": [
    {
     "data": {
      "text/plain": [
       "array([0, 3, 6, 9])"
      ]
     },
     "execution_count": 80,
     "metadata": {},
     "output_type": "execute_result"
    }
   ],
   "source": [
    "arr3"
   ]
  },
  {
   "cell_type": "code",
   "execution_count": 81,
   "metadata": {},
   "outputs": [
    {
     "data": {
      "text/plain": [
       "array([ 1.        ,  1.2244898 ,  1.44897959,  1.67346939,  1.89795918,\n",
       "        2.12244898,  2.34693878,  2.57142857,  2.79591837,  3.02040816,\n",
       "        3.24489796,  3.46938776,  3.69387755,  3.91836735,  4.14285714,\n",
       "        4.36734694,  4.59183673,  4.81632653,  5.04081633,  5.26530612,\n",
       "        5.48979592,  5.71428571,  5.93877551,  6.16326531,  6.3877551 ,\n",
       "        6.6122449 ,  6.83673469,  7.06122449,  7.28571429,  7.51020408,\n",
       "        7.73469388,  7.95918367,  8.18367347,  8.40816327,  8.63265306,\n",
       "        8.85714286,  9.08163265,  9.30612245,  9.53061224,  9.75510204,\n",
       "        9.97959184, 10.20408163, 10.42857143, 10.65306122, 10.87755102,\n",
       "       11.10204082, 11.32653061, 11.55102041, 11.7755102 , 12.        ])"
      ]
     },
     "execution_count": 81,
     "metadata": {},
     "output_type": "execute_result"
    }
   ],
   "source": [
    "# \"linspace(start, stop, number)\" basically create an one dimensional array with fraction  values\n",
    "np.linspace(1, 12, num = 50)"
   ]
  },
  {
   "cell_type": "code",
   "execution_count": 109,
   "metadata": {},
   "outputs": [
    {
     "data": {
      "text/plain": [
       "array([   1,    2,    3,    4, 1000, 1000, 1000, 1000])"
      ]
     },
     "execution_count": 109,
     "metadata": {},
     "output_type": "execute_result"
    }
   ],
   "source": [
    "arr1"
   ]
  },
  {
   "cell_type": "markdown",
   "metadata": {},
   "source": [
    "### Types of Array"
   ]
  },
  {
   "cell_type": "code",
   "execution_count": 110,
   "metadata": {},
   "outputs": [
    {
     "data": {
      "text/plain": [
       "array([0., 0., 0., 0., 0., 0.])"
      ]
     },
     "execution_count": 110,
     "metadata": {},
     "output_type": "execute_result"
    }
   ],
   "source": [
    "np.zeros(6)"
   ]
  },
  {
   "cell_type": "code",
   "execution_count": 111,
   "metadata": {},
   "outputs": [
    {
     "data": {
      "text/plain": [
       "array([1., 1., 1., 1., 1.])"
      ]
     },
     "execution_count": 111,
     "metadata": {},
     "output_type": "execute_result"
    }
   ],
   "source": [
    "np.ones(5)"
   ]
  },
  {
   "cell_type": "code",
   "execution_count": 113,
   "metadata": {},
   "outputs": [
    {
     "data": {
      "text/plain": [
       "array([[1., 1., 1.],\n",
       "       [1., 1., 1.],\n",
       "       [1., 1., 1.]])"
      ]
     },
     "execution_count": 113,
     "metadata": {},
     "output_type": "execute_result"
    }
   ],
   "source": [
    "np.ones([3,3])"
   ]
  },
  {
   "cell_type": "code",
   "execution_count": 132,
   "metadata": {},
   "outputs": [
    {
     "data": {
      "text/plain": [
       "array([1., 1., 1., 1., 1.])"
      ]
     },
     "execution_count": 132,
     "metadata": {},
     "output_type": "execute_result"
    }
   ],
   "source": [
    "np.empty(5)"
   ]
  },
  {
   "cell_type": "code",
   "execution_count": 133,
   "metadata": {},
   "outputs": [
    {
     "data": {
      "text/plain": [
       "array([[1., 0., 0., 0.],\n",
       "       [0., 1., 0., 0.],\n",
       "       [0., 0., 1., 0.],\n",
       "       [0., 0., 0., 1.]])"
      ]
     },
     "execution_count": 133,
     "metadata": {},
     "output_type": "execute_result"
    }
   ],
   "source": [
    "np.eye(4)"
   ]
  },
  {
   "cell_type": "markdown",
   "metadata": {},
   "source": [
    "### Copy() function and broadcasring"
   ]
  },
  {
   "cell_type": "code",
   "execution_count": 83,
   "metadata": {},
   "outputs": [
    {
     "name": "stdout",
     "output_type": "stream",
     "text": [
      "[  1   2   3   4 200 200 200 200]\n"
     ]
    }
   ],
   "source": [
    "\n",
    "arr1[4:] = 200\n",
    "print(arr1)"
   ]
  },
  {
   "cell_type": "code",
   "execution_count": 84,
   "metadata": {},
   "outputs": [],
   "source": [
    "arr4 = arr1"
   ]
  },
  {
   "cell_type": "code",
   "execution_count": 85,
   "metadata": {},
   "outputs": [
    {
     "name": "stdout",
     "output_type": "stream",
     "text": [
      "[   1    2    3    4 1000 1000 1000 1000]\n"
     ]
    }
   ],
   "source": [
    "arr4[4:] = 1000\n",
    "print(arr4)"
   ]
  },
  {
   "cell_type": "code",
   "execution_count": 86,
   "metadata": {},
   "outputs": [
    {
     "data": {
      "text/plain": [
       "array([   1,    2,    3,    4, 1000, 1000, 1000, 1000])"
      ]
     },
     "execution_count": 86,
     "metadata": {},
     "output_type": "execute_result"
    }
   ],
   "source": [
    "arr1"
   ]
  },
  {
   "cell_type": "code",
   "execution_count": 87,
   "metadata": {},
   "outputs": [],
   "source": [
    "arr4 = arr1.copy()   # copy() creates another memory space to store the values"
   ]
  },
  {
   "cell_type": "code",
   "execution_count": 88,
   "metadata": {},
   "outputs": [
    {
     "name": "stdout",
     "output_type": "stream",
     "text": [
      "[   1    2    3    4 1000 1000 1000 1000]\n",
      "[    1     2     3     4 10000 10000 10000 10000]\n"
     ]
    }
   ],
   "source": [
    "print(arr1)\n",
    "arr4[4:] = 10000\n",
    "print(arr4)"
   ]
  },
  {
   "cell_type": "markdown",
   "metadata": {},
   "source": [
    "### Some conditions very useful in Exploratory Data Analysis"
   ]
  },
  {
   "cell_type": "code",
   "execution_count": 89,
   "metadata": {},
   "outputs": [
    {
     "name": "stdout",
     "output_type": "stream",
     "text": [
      "[ 1  2  3  4  5  6  7  8  9 10 11 12]\n"
     ]
    }
   ],
   "source": [
    "arr5 = np.arange(1, 13)\n",
    "print(arr5)"
   ]
  },
  {
   "cell_type": "code",
   "execution_count": 90,
   "metadata": {},
   "outputs": [
    {
     "data": {
      "text/plain": [
       "array([ True,  True,  True, False, False, False, False, False, False,\n",
       "       False, False, False])"
      ]
     },
     "execution_count": 90,
     "metadata": {},
     "output_type": "execute_result"
    }
   ],
   "source": [
    "val = 4\n",
    "arr5 < val\n"
   ]
  },
  {
   "cell_type": "code",
   "execution_count": 91,
   "metadata": {},
   "outputs": [
    {
     "data": {
      "text/plain": [
       "array([ 3,  6,  9, 12, 15, 18, 21, 24, 27, 30, 33, 36])"
      ]
     },
     "execution_count": 91,
     "metadata": {},
     "output_type": "execute_result"
    }
   ],
   "source": [
    "arr5 * 3"
   ]
  },
  {
   "cell_type": "code",
   "execution_count": 92,
   "metadata": {},
   "outputs": [
    {
     "data": {
      "text/plain": [
       "array([0.33333333, 0.66666667, 1.        , 1.33333333, 1.66666667,\n",
       "       2.        , 2.33333333, 2.66666667, 3.        , 3.33333333,\n",
       "       3.66666667, 4.        ])"
      ]
     },
     "execution_count": 92,
     "metadata": {},
     "output_type": "execute_result"
    }
   ],
   "source": [
    "arr5 / 3"
   ]
  },
  {
   "cell_type": "code",
   "execution_count": 93,
   "metadata": {},
   "outputs": [
    {
     "data": {
      "text/plain": [
       "array([1, 2, 0, 1, 2, 0, 1, 2, 0, 1, 2, 0], dtype=int32)"
      ]
     },
     "execution_count": 93,
     "metadata": {},
     "output_type": "execute_result"
    }
   ],
   "source": [
    "arr5 % 3"
   ]
  },
  {
   "cell_type": "code",
   "execution_count": 94,
   "metadata": {},
   "outputs": [
    {
     "data": {
      "text/plain": [
       "array([1, 2, 3, 4])"
      ]
     },
     "execution_count": 94,
     "metadata": {},
     "output_type": "execute_result"
    }
   ],
   "source": [
    "arr[arr < 5]"
   ]
  },
  {
   "cell_type": "markdown",
   "metadata": {},
   "source": [
    "### Create arrays and reshape"
   ]
  },
  {
   "cell_type": "code",
   "execution_count": 95,
   "metadata": {},
   "outputs": [
    {
     "data": {
      "text/plain": [
       "array([[ 0,  1,  2],\n",
       "       [ 3,  4,  5],\n",
       "       [ 6,  7,  8],\n",
       "       [ 9, 10, 11],\n",
       "       [12, 13, 14]])"
      ]
     },
     "execution_count": 95,
     "metadata": {},
     "output_type": "execute_result"
    }
   ],
   "source": [
    "np.arange(0, 15).reshape(5, 3)"
   ]
  },
  {
   "cell_type": "code",
   "execution_count": 96,
   "metadata": {},
   "outputs": [
    {
     "name": "stdout",
     "output_type": "stream",
     "text": [
      "Float value: \n",
      " [1. 1. 1. 1. 1.]\n",
      "Integer Value: \n",
      " [1 1 1 1 1]\n"
     ]
    }
   ],
   "source": [
    "# Identity Matrix 1D\n",
    "print(\"Float value: \\n\", np.ones(5))\n",
    "print(\"Integer Value: \\n\",np.ones(5, dtype=int))"
   ]
  },
  {
   "cell_type": "code",
   "execution_count": 97,
   "metadata": {},
   "outputs": [
    {
     "data": {
      "text/plain": [
       "array([[1, 1, 1, 1, 1],\n",
       "       [1, 1, 1, 1, 1],\n",
       "       [1, 1, 1, 1, 1]])"
      ]
     },
     "execution_count": 97,
     "metadata": {},
     "output_type": "execute_result"
    }
   ],
   "source": [
    "# Identity Matrix 2D\n",
    "np.ones((3,5), dtype=int)"
   ]
  },
  {
   "cell_type": "code",
   "execution_count": 98,
   "metadata": {},
   "outputs": [
    {
     "data": {
      "text/plain": [
       "array([[0.77074107, 0.68729255, 0.35743223, 0.92487994],\n",
       "       [0.10909035, 0.69067896, 0.01668807, 0.29251581],\n",
       "       [0.2145988 , 0.45423518, 0.91054751, 0.43570507]])"
      ]
     },
     "execution_count": 98,
     "metadata": {},
     "output_type": "execute_result"
    }
   ],
   "source": [
    "# Random Distribution\n",
    "np.random.rand(3,4)    # It creates a two dimensional array with random values 0 to 1."
   ]
  },
  {
   "cell_type": "code",
   "execution_count": 99,
   "metadata": {},
   "outputs": [
    {
     "data": {
      "text/plain": [
       "array([[0.28733348, 0.17312505, 0.76580898, 0.39771669, 0.61186516],\n",
       "       [0.64538721, 0.23639149, 0.1981505 , 0.29444808, 0.70394857],\n",
       "       [0.40317311, 0.54529306, 0.98337235, 0.60865868, 0.64214298],\n",
       "       [0.79269402, 0.99969455, 0.46429674, 0.92102919, 0.94674498],\n",
       "       [0.62855625, 0.36233799, 0.19415629, 0.21627775, 0.16666759]])"
      ]
     },
     "execution_count": 99,
     "metadata": {},
     "output_type": "execute_result"
    }
   ],
   "source": [
    "arr_1 = np.random.rand(5, 5)\n",
    "arr_1"
   ]
  },
  {
   "cell_type": "code",
   "execution_count": 100,
   "metadata": {},
   "outputs": [
    {
     "data": {
      "text/plain": [
       "array([[ 1.21007096,  1.11741053, -1.77967517, -0.12525228,  0.64226028],\n",
       "       [ 0.58284008, -0.67930637, -0.20614475, -0.24365263, -0.97569999],\n",
       "       [-0.49842932, -1.55779136, -2.28922504,  0.04810793, -0.0210936 ],\n",
       "       [-0.80138818,  0.92577258, -1.23336278,  0.41956254,  0.93981315],\n",
       "       [-0.15255458, -0.62998904, -0.86344104, -0.57297784, -1.03661814]])"
      ]
     },
     "execution_count": 100,
     "metadata": {},
     "output_type": "execute_result"
    }
   ],
   "source": [
    "arr_2 = np.random.randn(5, 5)\n",
    "arr_2"
   ]
  },
  {
   "cell_type": "code",
   "execution_count": 101,
   "metadata": {},
   "outputs": [],
   "source": [
    "import seaborn as sb\n",
    "import pandas as pd"
   ]
  },
  {
   "cell_type": "code",
   "execution_count": 102,
   "metadata": {},
   "outputs": [
    {
     "name": "stderr",
     "output_type": "stream",
     "text": [
      "C:\\Users\\AslamSikder\\AppData\\Local\\Continuum\\anaconda3\\lib\\site-packages\\matplotlib\\axes\\_axes.py:6462: UserWarning: The 'normed' kwarg is deprecated, and has been replaced by the 'density' kwarg.\n",
      "  warnings.warn(\"The 'normed' kwarg is deprecated, and has been \"\n"
     ]
    },
    {
     "data": {
      "text/plain": [
       "<matplotlib.axes._subplots.AxesSubplot at 0x1bd60e664a8>"
      ]
     },
     "execution_count": 102,
     "metadata": {},
     "output_type": "execute_result"
    },
    {
     "data": {
      "image/png": "[encoded data removed]",
      "text/plain": [
       "<Figure size 432x288 with 1 Axes>"
      ]
     },
     "metadata": {},
     "output_type": "display_data"
    }
   ],
   "source": [
    "sb.distplot(pd.DataFrame(arr_2.reshape(25,1)))"
   ]
  },
  {
   "cell_type": "code",
   "execution_count": 103,
   "metadata": {},
   "outputs": [
    {
     "data": {
      "text/plain": [
       "array([69, 87, 12, 26, 75,  6, 46,  8, 26, 62,  6, 82])"
      ]
     },
     "execution_count": 103,
     "metadata": {},
     "output_type": "execute_result"
    }
   ],
   "source": [
    "np.random.randint(0,100,12)"
   ]
  },
  {
   "cell_type": "code",
   "execution_count": 104,
   "metadata": {},
   "outputs": [
    {
     "data": {
      "text/plain": [
       "array([[17, 19, 69],\n",
       "       [54, 22,  3],\n",
       "       [12, 80, 97],\n",
       "       [14, 53, 74]])"
      ]
     },
     "execution_count": 104,
     "metadata": {},
     "output_type": "execute_result"
    }
   ],
   "source": [
    "\"\"\"\n",
    "randint(low, high=None, size=None, dtype='l')\n",
    "\n",
    "Return random integers from `low` (inclusive) to `high` (exclusive).\n",
    "\"\"\"\n",
    "np.random.randint(0,100,12).reshape(4,3)"
   ]
  },
  {
   "cell_type": "code",
   "execution_count": 105,
   "metadata": {},
   "outputs": [
    {
     "data": {
      "text/plain": [
       "array([[0.10094917, 0.74036727, 0.9610621 , 0.23378373, 0.73107   ]])"
      ]
     },
     "execution_count": 105,
     "metadata": {},
     "output_type": "execute_result"
    }
   ],
   "source": [
    "\"\"\"\n",
    "random_sample(size=None)\n",
    "\n",
    "Return random floats in the half-open interval [0.0, 1.0).\n",
    "\n",
    "\"\"\"\n",
    "np.random.random_sample((1,5))"
   ]
  },
  {
   "cell_type": "code",
   "execution_count": null,
   "metadata": {},
   "outputs": [],
   "source": []
  },
  {
   "cell_type": "markdown",
   "metadata": {},
   "source": [
    "### Operation on Array "
   ]
  },
  {
   "cell_type": "code",
   "execution_count": 106,
   "metadata": {},
   "outputs": [
    {
     "name": "stdout",
     "output_type": "stream",
     "text": [
      "My First Array: \n",
      " [[40 41 42 43]\n",
      " [44 45 46 47]] \n",
      "\n",
      "My Second Array: \n",
      " [[10 11 12 13]\n",
      " [14 15 16 17]]\n"
     ]
    }
   ],
   "source": [
    "\"\"\"\n",
    "arange([start,] stop[, step,], dtype=None)\n",
    "\n",
    "Return evenly spaced values within a given interval.\n",
    "\"\"\"\n",
    "\n",
    "arrr1 = np.arange(40, 48).reshape(2, 4)\n",
    "arrr2 = np.arange(10, 18).reshape(2, 4)\n",
    "print( \"My First Array: \\n\", arrr1 ,\"\\n\\nMy Second Array: \\n\", arrr2)"
   ]
  },
  {
   "cell_type": "code",
   "execution_count": 107,
   "metadata": {},
   "outputs": [
    {
     "name": "stdout",
     "output_type": "stream",
     "text": [
      "\n",
      "\n",
      "Addition of two arrays: \n",
      " [[50 52 54 56]\n",
      " [58 60 62 64]]\n",
      "\n",
      "\n",
      "Subtraction of two arrays: \n",
      " [[30 30 30 30]\n",
      " [30 30 30 30]]\n",
      "\n",
      "\n",
      "Multiplication of two arrays: \n",
      " [[400 451 504 559]\n",
      " [616 675 736 799]]\n",
      "\n",
      "\n",
      "Division of two arrays: \n",
      " [[4.         3.72727273 3.5        3.30769231]\n",
      " [3.14285714 3.         2.875      2.76470588]]\n",
      "\n",
      "\n",
      "Modulus of two arrays: \n",
      " [[ 0  8  6  4]\n",
      " [ 2  0 14 13]]\n"
     ]
    }
   ],
   "source": [
    "print(\"\\n\\nAddition of two arrays: \\n\", arrr1 + arrr2)\n",
    "print(\"\\n\\nSubtraction of two arrays: \\n\", arrr1 - arrr2)\n",
    "print(\"\\n\\nMultiplication of two arrays: \\n\", arrr1 * arrr2)\n",
    "print(\"\\n\\nDivision of two arrays: \\n\", arrr1 / arrr2)\n",
    "print(\"\\n\\nModulus of two arrays: \\n\", arrr1 % arrr2)"
   ]
  },
  {
   "cell_type": "code",
   "execution_count": null,
   "metadata": {},
   "outputs": [],
   "source": []
  },
  {
   "cell_type": "code",
   "execution_count": 108,
   "metadata": {},
   "outputs": [
    {
     "name": "stdout",
     "output_type": "stream",
     "text": [
      "[[40 41 42 43]\n",
      " [44 45 46 47]]\n"
     ]
    }
   ],
   "source": [
    "print (arrr1)"
   ]
  },
  {
   "cell_type": "code",
   "execution_count": null,
   "metadata": {},
   "outputs": [],
   "source": []
  },
  {
   "cell_type": "code",
   "execution_count": null,
   "metadata": {},
   "outputs": [],
   "source": []
  }
 ],
 "metadata": {
  "kernelspec": {
   "display_name": "Python 3",
   "language": "python",
   "name": "python3"
  },
  "language_info": {
   "codemirror_mode": {
    "name": "ipython",
    "version": 3
   },
   "file_extension": ".py",
   "mimetype": "text/x-python",
   "name": "python",
   "nbconvert_exporter": "python",
   "pygments_lexer": "ipython3",
   "version": "3.6.5"
  }
 },
 "nbformat": 4,
 "nbformat_minor": 2
}
